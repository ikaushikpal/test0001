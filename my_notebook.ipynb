{
  "nbformat": 4,
  "nbformat_minor": 0,
  "metadata": {
    "colab": {
      "name": "my notebook.ipynb",
      "provenance": [],
      "toc_visible": true,
      "authorship_tag": "ABX9TyP95A7YKfz1uhorc+EFQYjt",
      "include_colab_link": true
    },
    "kernelspec": {
      "name": "python3",
      "display_name": "Python 3"
    }
  },
  "cells": [
    {
      "cell_type": "markdown",
      "metadata": {
        "id": "view-in-github",
        "colab_type": "text"
      },
      "source": [
        "<a href=\"https://colab.research.google.com/github/ikaushikpal/test0001/blob/main/my_notebook.ipynb\" target=\"_parent\"><img src=\"https://colab.research.google.com/assets/colab-badge.svg\" alt=\"Open In Colab\"/></a>"
      ]
    },
    {
      "cell_type": "markdown",
      "metadata": {
        "id": "_mowZcYmnnG1"
      },
      "source": [
        "# New Section"
      ]
    },
    {
      "cell_type": "code",
      "metadata": {
        "id": "iBgsWruXnnos",
        "colab": {
          "base_uri": "https://localhost:8080/"
        },
        "outputId": "f2486bdc-6c8f-4796-ff86-b4dcbe879919"
      },
      "source": [
        "try:\n",
        "    import turicreate as tc\n",
        "except ModuleNotFoundError:\n",
        "    !pip install turicreate\n",
        "finally:\n",
        "    print('Import Successful')"
      ],
      "execution_count": null,
      "outputs": [
        {
          "output_type": "stream",
          "text": [
            "Import Successful\n"
          ],
          "name": "stdout"
        }
      ]
    },
    {
      "cell_type": "code",
      "metadata": {
        "colab": {
          "base_uri": "https://localhost:8080/",
          "height": 238
        },
        "id": "Cq36LWn2UELd",
        "outputId": "67620d39-852d-4b6f-d025-cb682ea9cecd"
      },
      "source": [
        "sf = tc.SFrame('https://d396qusza40orc.cloudfront.net/phoenixassets/course1-for-students/people-example.csv')"
      ],
      "execution_count": null,
      "outputs": [
        {
          "output_type": "display_data",
          "data": {
            "text/html": [
              "<pre>Downloading https://d396qusza40orc.cloudfront.net/phoenixassets/course1-for-students/people-example.csv to /var/tmp/turicreate-root/60/30508e86-46c6-4e24-a242-f4ce9f87e73e.csv</pre>"
            ],
            "text/plain": [
              "Downloading https://d396qusza40orc.cloudfront.net/phoenixassets/course1-for-students/people-example.csv to /var/tmp/turicreate-root/60/30508e86-46c6-4e24-a242-f4ce9f87e73e.csv"
            ]
          },
          "metadata": {
            "tags": []
          }
        },
        {
          "output_type": "display_data",
          "data": {
            "text/html": [
              "<pre>Finished parsing file https://d396qusza40orc.cloudfront.net/phoenixassets/course1-for-students/people-example.csv</pre>"
            ],
            "text/plain": [
              "Finished parsing file https://d396qusza40orc.cloudfront.net/phoenixassets/course1-for-students/people-example.csv"
            ]
          },
          "metadata": {
            "tags": []
          }
        },
        {
          "output_type": "display_data",
          "data": {
            "text/html": [
              "<pre>Parsing completed. Parsed 7 lines in 0.033268 secs.</pre>"
            ],
            "text/plain": [
              "Parsing completed. Parsed 7 lines in 0.033268 secs."
            ]
          },
          "metadata": {
            "tags": []
          }
        },
        {
          "output_type": "stream",
          "text": [
            "------------------------------------------------------\n",
            "Inferred types from first 100 line(s) of file as \n",
            "column_type_hints=[str,str,str,int]\n",
            "If parsing fails due to incorrect types, you can correct\n",
            "the inferred type list above and pass it to read_csv in\n",
            "the column_type_hints argument\n",
            "------------------------------------------------------\n"
          ],
          "name": "stdout"
        },
        {
          "output_type": "display_data",
          "data": {
            "text/html": [
              "<pre>Finished parsing file https://d396qusza40orc.cloudfront.net/phoenixassets/course1-for-students/people-example.csv</pre>"
            ],
            "text/plain": [
              "Finished parsing file https://d396qusza40orc.cloudfront.net/phoenixassets/course1-for-students/people-example.csv"
            ]
          },
          "metadata": {
            "tags": []
          }
        },
        {
          "output_type": "display_data",
          "data": {
            "text/html": [
              "<pre>Parsing completed. Parsed 7 lines in 0.014578 secs.</pre>"
            ],
            "text/plain": [
              "Parsing completed. Parsed 7 lines in 0.014578 secs."
            ]
          },
          "metadata": {
            "tags": []
          }
        }
      ]
    },
    {
      "cell_type": "code",
      "metadata": {
        "colab": {
          "base_uri": "https://localhost:8080/",
          "height": 181
        },
        "id": "N1R9VisuUFGA",
        "outputId": "ad4bda18-a28f-4730-8ff3-581abe91c368"
      },
      "source": [
        "sf"
      ],
      "execution_count": null,
      "outputs": [
        {
          "output_type": "execute_result",
          "data": {
            "text/html": [
              "<div style=\"max-height:1000px;max-width:1500px;overflow:auto;\"><table frame=\"box\" rules=\"cols\">\n",
              "    <tr>\n",
              "        <th style=\"padding-left: 1em; padding-right: 1em; text-align: center\">First Name</th>\n",
              "        <th style=\"padding-left: 1em; padding-right: 1em; text-align: center\">Last Name</th>\n",
              "        <th style=\"padding-left: 1em; padding-right: 1em; text-align: center\">Country</th>\n",
              "        <th style=\"padding-left: 1em; padding-right: 1em; text-align: center\">age</th>\n",
              "    </tr>\n",
              "    <tr>\n",
              "        <td style=\"padding-left: 1em; padding-right: 1em; text-align: center; vertical-align: top\">Bob</td>\n",
              "        <td style=\"padding-left: 1em; padding-right: 1em; text-align: center; vertical-align: top\">Smith</td>\n",
              "        <td style=\"padding-left: 1em; padding-right: 1em; text-align: center; vertical-align: top\">United States</td>\n",
              "        <td style=\"padding-left: 1em; padding-right: 1em; text-align: center; vertical-align: top\">24</td>\n",
              "    </tr>\n",
              "    <tr>\n",
              "        <td style=\"padding-left: 1em; padding-right: 1em; text-align: center; vertical-align: top\">Alice</td>\n",
              "        <td style=\"padding-left: 1em; padding-right: 1em; text-align: center; vertical-align: top\">Williams</td>\n",
              "        <td style=\"padding-left: 1em; padding-right: 1em; text-align: center; vertical-align: top\">Canada</td>\n",
              "        <td style=\"padding-left: 1em; padding-right: 1em; text-align: center; vertical-align: top\">23</td>\n",
              "    </tr>\n",
              "    <tr>\n",
              "        <td style=\"padding-left: 1em; padding-right: 1em; text-align: center; vertical-align: top\">Malcolm</td>\n",
              "        <td style=\"padding-left: 1em; padding-right: 1em; text-align: center; vertical-align: top\">Jone</td>\n",
              "        <td style=\"padding-left: 1em; padding-right: 1em; text-align: center; vertical-align: top\">England</td>\n",
              "        <td style=\"padding-left: 1em; padding-right: 1em; text-align: center; vertical-align: top\">22</td>\n",
              "    </tr>\n",
              "    <tr>\n",
              "        <td style=\"padding-left: 1em; padding-right: 1em; text-align: center; vertical-align: top\">Felix</td>\n",
              "        <td style=\"padding-left: 1em; padding-right: 1em; text-align: center; vertical-align: top\">Brown</td>\n",
              "        <td style=\"padding-left: 1em; padding-right: 1em; text-align: center; vertical-align: top\">USA</td>\n",
              "        <td style=\"padding-left: 1em; padding-right: 1em; text-align: center; vertical-align: top\">23</td>\n",
              "    </tr>\n",
              "    <tr>\n",
              "        <td style=\"padding-left: 1em; padding-right: 1em; text-align: center; vertical-align: top\">Alex</td>\n",
              "        <td style=\"padding-left: 1em; padding-right: 1em; text-align: center; vertical-align: top\">Cooper</td>\n",
              "        <td style=\"padding-left: 1em; padding-right: 1em; text-align: center; vertical-align: top\">Poland</td>\n",
              "        <td style=\"padding-left: 1em; padding-right: 1em; text-align: center; vertical-align: top\">23</td>\n",
              "    </tr>\n",
              "    <tr>\n",
              "        <td style=\"padding-left: 1em; padding-right: 1em; text-align: center; vertical-align: top\">Tod</td>\n",
              "        <td style=\"padding-left: 1em; padding-right: 1em; text-align: center; vertical-align: top\">Campbell</td>\n",
              "        <td style=\"padding-left: 1em; padding-right: 1em; text-align: center; vertical-align: top\">United States</td>\n",
              "        <td style=\"padding-left: 1em; padding-right: 1em; text-align: center; vertical-align: top\">22</td>\n",
              "    </tr>\n",
              "    <tr>\n",
              "        <td style=\"padding-left: 1em; padding-right: 1em; text-align: center; vertical-align: top\">Derek</td>\n",
              "        <td style=\"padding-left: 1em; padding-right: 1em; text-align: center; vertical-align: top\">Ward</td>\n",
              "        <td style=\"padding-left: 1em; padding-right: 1em; text-align: center; vertical-align: top\">Switzerland</td>\n",
              "        <td style=\"padding-left: 1em; padding-right: 1em; text-align: center; vertical-align: top\">25</td>\n",
              "    </tr>\n",
              "</table>\n",
              "[7 rows x 4 columns]<br/>\n",
              "</div>"
            ],
            "text/plain": [
              "Columns:\n",
              "\tFirst Name\tstr\n",
              "\tLast Name\tstr\n",
              "\tCountry\tstr\n",
              "\tage\tint\n",
              "\n",
              "Rows: 7\n",
              "\n",
              "Data:\n",
              "+------------+-----------+---------------+-----+\n",
              "| First Name | Last Name |    Country    | age |\n",
              "+------------+-----------+---------------+-----+\n",
              "|    Bob     |   Smith   | United States |  24 |\n",
              "|   Alice    |  Williams |     Canada    |  23 |\n",
              "|  Malcolm   |    Jone   |    England    |  22 |\n",
              "|   Felix    |   Brown   |      USA      |  23 |\n",
              "|    Alex    |   Cooper  |     Poland    |  23 |\n",
              "|    Tod     |  Campbell | United States |  22 |\n",
              "|   Derek    |    Ward   |  Switzerland  |  25 |\n",
              "+------------+-----------+---------------+-----+\n",
              "[7 rows x 4 columns]"
            ]
          },
          "metadata": {
            "tags": []
          },
          "execution_count": 6
        }
      ]
    },
    {
      "cell_type": "code",
      "metadata": {
        "id": "VROh8I27UF8x"
      },
      "source": [
        ""
      ],
      "execution_count": null,
      "outputs": []
    }
  ]
}